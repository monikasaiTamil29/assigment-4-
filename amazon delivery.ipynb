{
 "cells": [
  {
   "cell_type": "code",
   "execution_count": null,
   "metadata": {},
   "outputs": [],
   "source": [
    "df = pd.read_csv(\"amazon_delivery.csv\")"
   ]
  },
  {
   "cell_type": "code",
   "execution_count": null,
   "metadata": {},
   "outputs": [],
   "source": [
    "import numpy as np # linear algebra\n",
    "import pandas as pd"
   ]
  },
  {
   "cell_type": "code",
   "execution_count": null,
   "metadata": {},
   "outputs": [],
   "source": [
    "import pandas as pd\n",
    "import numpy as np\n",
    "import seaborn as sns\n",
    "import matplotlib.pyplot as plt\n",
    "from sklearn.model_selection import train_test_split\n",
    "from sklearn.preprocessing import StandardScaler, OneHotEncoder\n",
    "from sklearn.pipeline import Pipeline\n",
    "from sklearn.compose import ColumnTransformer\n",
    "from sklearn.ensemble import RandomForestRegressor, GradientBoostingRegressor\n",
    "from sklearn.linear_model import LinearRegression\n",
    "from sklearn.metrics import mean_absolute_error, mean_squared_error, r2_score\n",
    "import streamlit as st\n",
    "import mlflow\n",
    "import mlflow.sklearn\n"
   ]
  },
  {
   "cell_type": "code",
   "execution_count": null,
   "metadata": {},
   "outputs": [],
   "source": [
    "df.info()"
   ]
  },
  {
   "cell_type": "code",
   "execution_count": null,
   "metadata": {},
   "outputs": [],
   "source": [
    "df.describe()"
   ]
  },
  {
   "cell_type": "code",
   "execution_count": null,
   "metadata": {},
   "outputs": [],
   "source": [
    "df.head()"
   ]
  },
  {
   "cell_type": "code",
   "execution_count": null,
   "metadata": {},
   "outputs": [],
   "source": [
    "import seaborn as sns"
   ]
  },
  {
   "cell_type": "code",
   "execution_count": null,
   "metadata": {},
   "outputs": [],
   "source": [
    "R = 6371\n",
    "\n",
    "# Convert degrees to radians\n",
    "def deg_to_rad(degrees):\n",
    "    return degrees * (np.pi/180)\n",
    "\n",
    "# Function to calculate the distance between two points using the haversine formula\n",
    "def distcalculate(lat1, lon1, lat2, lon2):\n",
    "    d_lat = deg_to_rad(lat2-lat1)\n",
    "    d_lon = deg_to_rad(lon2-lon1)\n",
    "    a = np.sin(d_lat/2)**2 + np.cos(deg_to_rad(lat1)) * np.cos(deg_to_rad(lat2)) * np.sin(d_lon/2)**2\n",
    "    c = 2 * np.arctan2(np.sqrt(a), np.sqrt(1-a))\n",
    "    return R * c\n",
    "df['Distance'] = np.nan\n",
    "\n",
    "for i in range(len(df)):\n",
    "    df.loc[i, 'Distance'] = distcalculate(df.loc[i, 'Store_Latitude'], \n",
    "                                        df.loc[i, 'Store_Longitude'], \n",
    "                                        df.loc[i, 'Drop_Latitude'], \n",
    "                                        df.loc[i, 'Drop_Longitude'])\n",
    "df['Agent_Age'].unique()"
   ]
  },
  {
   "cell_type": "code",
   "execution_count": null,
   "metadata": {},
   "outputs": [],
   "source": [
    "df['Agent_Rating'].unique()"
   ]
  },
  {
   "cell_type": "code",
   "execution_count": null,
   "metadata": {},
   "outputs": [],
   "source": [
    "import pandas as pd\n",
    "\n",
    "# Specify the allowed rating values\n",
    "allowed_ratings = [4.9, 4.5, 4.4, 4.7, 4.6, 4.8, 4.2, 4.3, 4.0, 4.1, 5.0, 3.5, 3.8, 3.9, 3.7, 2.6, 2.5, 3.6, 3.1, 2.7, 1.0, 3.2, 3.3, 3.4, 2.8, 2.9, 3.0]\n",
    "\n",
    "# Filter the DataFrame to keep only the allowed rating values\n",
    "df = df[df['Agent_Rating'].isin(allowed_ratings)]"
   ]
  },
  {
   "cell_type": "code",
   "execution_count": null,
   "metadata": {},
   "outputs": [],
   "source": [
    "df['Agent_Rating'].unique()"
   ]
  },
  {
   "cell_type": "code",
   "execution_count": null,
   "metadata": {},
   "outputs": [],
   "source": [
    "print(df['Weather'].unique())\n",
    "print(df['Area'].unique())\n",
    "print(df['Traffic'].unique())\n",
    "print(df['Vehicle'].unique())\n",
    "print(df['Category'].unique())"
   ]
  },
  {
   "cell_type": "code",
   "execution_count": null,
   "metadata": {},
   "outputs": [],
   "source": [
    "df.drop_duplicates(inplace=True)\n",
    "df.dropna(inplace=True)"
   ]
  },
  {
   "cell_type": "code",
   "execution_count": null,
   "metadata": {},
   "outputs": [],
   "source": [
    "allowed_traffic = ['High ','Jam ','Low ','Medium ']\n",
    "\n",
    "df = df[df['Traffic'].isin(allowed_traffic)]"
   ]
  },
  {
   "cell_type": "code",
   "execution_count": null,
   "metadata": {},
   "outputs": [],
   "source": [
    "df.head()"
   ]
  },
  {
   "cell_type": "code",
   "execution_count": null,
   "metadata": {},
   "outputs": [],
   "source": [
    "plt.figure(figsize=(8, 5))\n",
    "sns.histplot(df['Delivery_Time'], bins=30, kde=True, color='blue')\n",
    "plt.title('Distribution of Delivery Time')\n",
    "plt.xlabel('Delivery Time (hours)')\n",
    "plt.ylabel('Frequency')\n",
    "plt.show()"
   ]
  },
  {
   "cell_type": "code",
   "execution_count": null,
   "metadata": {},
   "outputs": [],
   "source": [
    "plt.figure(figsize=(8, 5))\n",
    "sns.scatterplot(x=df['Distance'], y=df['Delivery_Time'], alpha=0.5, color='green')\n",
    "plt.title('Distance vs. Delivery Time')\n",
    "plt.xlabel('Distance (km)')\n",
    "plt.ylabel('Delivery Time (hours)')\n",
    "plt.show()\n"
   ]
  },
  {
   "cell_type": "code",
   "execution_count": null,
   "metadata": {},
   "outputs": [],
   "source": [
    "plt.figure(figsize=(8, 5))\n",
    "sns.boxplot(x=df['Weather'], y=df['Delivery_Time'], palette='coolwarm')\n",
    "plt.title('Impact of Weather on Delivery Time')\n",
    "plt.xlabel('Weather Condition')\n",
    "plt.ylabel('Delivery Time (hours)')\n",
    "plt.xticks(rotation=45)\n",
    "plt.show()\n"
   ]
  },
  {
   "cell_type": "code",
   "execution_count": null,
   "metadata": {},
   "outputs": [],
   "source": [
    "plt.figure(figsize=(8, 5))\n",
    "sns.boxplot(x=df['Weather'], y=df['Delivery_Time'], palette='coolwarm')\n",
    "plt.title('Impact of Weather on Delivery Time')\n",
    "plt.xlabel('Weather Condition')\n",
    "plt.ylabel('Delivery Time (hours)')\n",
    "plt.xticks(rotation=45)\n",
    "plt.show()\n"
   ]
  },
  {
   "cell_type": "code",
   "execution_count": null,
   "metadata": {},
   "outputs": [],
   "source": [
    "plt.figure(figsize=(8, 5))\n",
    "sns.boxplot(x=df['Vehicle'], y=df['Delivery_Time'], palette='plasma')\n",
    "plt.title('Effect of Vehicle Type on Delivery Time')\n",
    "plt.xlabel('Vehicle Type')\n",
    "plt.ylabel('Delivery Time (hours)')\n",
    "plt.xticks(rotation=45)\n",
    "plt.show()\n"
   ]
  },
  {
   "cell_type": "code",
   "execution_count": null,
   "metadata": {},
   "outputs": [],
   "source": [
    "plt.figure(figsize=(8, 5))\n",
    "sns.boxplot(x=df['Agent_Rating'], y=df['Delivery_Time'], palette='magma')\n",
    "plt.title('Agent Rating vs. Delivery Time')\n",
    "plt.xlabel('Agent Rating')\n",
    "plt.ylabel('Delivery Time (hours)')\n",
    "plt.xticks(rotation=45)\n",
    "plt.show()\n",
    "plt.figure(figsize=(8, 5))\n",
    "sns.barplot(x=df['Category'], y=df['Delivery_Time'], palette='Set2')\n",
    "plt.title('Delivery Time by Product Category')\n",
    "plt.xlabel('Product Category')\n",
    "plt.ylabel('Average Delivery Time (hours)')\n",
    "plt.xticks(rotation=45)\n",
    "plt.show()\n"
   ]
  },
  {
   "cell_type": "code",
   "execution_count": null,
   "metadata": {},
   "outputs": [],
   "source": [
    "# Load dataset\n",
    "\n",
    "# Remove outliers using IQR method\n",
    "def remove_outliers(data, column):\n",
    "    Q1 = data[column].quantile(0.25)\n",
    "    Q3 = data[column].quantile(0.75)\n",
    "    IQR = Q3 - Q1\n",
    "    lower_bound = Q1 - 1.5 * IQR\n",
    "    upper_bound = Q3 + 1.5 * IQR\n",
    "    return data[(data[column] >= lower_bound) & (data[column] <= upper_bound)]\n",
    "\n",
    "# Apply outlier removal to relevant numeric columns\n",
    "for col in ['Delivery_Time', 'Distance', 'Agent_Age', 'Agent_Rating']:\n",
    "    df = remove_outliers(df, col)\n",
    "\n",
    "# Encoding categorical features\n",
    "for col in ['Weather', 'Area', 'Traffic', 'Vehicle', 'Category']:\n",
    "    df[col + '_encoded'] = df[col].astype('category').cat.codes\n"
   ]
  },
  {
   "cell_type": "code",
   "execution_count": null,
   "metadata": {},
   "outputs": [],
   "source": [
    "from sklearn.linear_model import LinearRegression\n",
    "from sklearn.model_selection import train_test_split\n",
    "from sklearn.metrics import r2_score, mean_squared_error"
   ]
  },
  {
   "cell_type": "code",
   "execution_count": null,
   "metadata": {},
   "outputs": [],
   "source": [
    "X = df[['Agent_Age','Agent_Rating','Distance']]\n",
    "y=df['Delivery_Time']"
   ]
  },
  {
   "cell_type": "code",
   "execution_count": null,
   "metadata": {},
   "outputs": [],
   "source": [
    "X_train, X_test, y_train, y_test = train_test_split(X,y,test_size=0.2,random_state=42)"
   ]
  },
  {
   "cell_type": "code",
   "execution_count": null,
   "metadata": {},
   "outputs": [],
   "source": [
    "LR = LinearRegression()"
   ]
  },
  {
   "cell_type": "code",
   "execution_count": null,
   "metadata": {},
   "outputs": [],
   "source": [
    "LR.fit(X_train,y_train)"
   ]
  },
  {
   "cell_type": "code",
   "execution_count": null,
   "metadata": {},
   "outputs": [],
   "source": [
    "import math"
   ]
  },
  {
   "cell_type": "code",
   "execution_count": null,
   "metadata": {},
   "outputs": [],
   "source": [
    "predictions = LR.predict(X_test)\n",
    "print(mean_squared_error(y_test,predictions))\n",
    "math.sqrt(2263.365762653255)\n",
    "r2 = r2_score(y_test, predictions)\n",
    "print(f\"R-squared: {r2:.2f}\")"
   ]
  },
  {
   "cell_type": "code",
   "execution_count": null,
   "metadata": {},
   "outputs": [],
   "source": [
    "import math\n",
    "math.sqrt(2025.2415)"
   ]
  },
  {
   "cell_type": "code",
   "execution_count": null,
   "metadata": {},
   "outputs": [],
   "source": [
    "print(df['Weather'].unique())\n",
    "print(df['Area'].unique())\n",
    "print(df['Traffic'].unique())\n",
    "print(df['Vehicle'].unique())\n",
    "print(df['Category'].unique())"
   ]
  },
  {
   "cell_type": "code",
   "execution_count": null,
   "metadata": {},
   "outputs": [],
   "source": [
    "weather_unique = df['Weather'].unique()\n",
    "\n",
    "# Create a mapping dictionary to replace the unique values\n",
    "weather_mapping = {weather: i for i, weather in enumerate(weather_unique)}\n",
    "\n",
    "# Replace the unique values with the mapped values\n",
    "df['Weather_encoded'] = df['Weather'].map(weather_mapping)\n",
    "\n",
    "# Now you can use the encoded weather column as a feature in your linear regression model\n",
    "X = df[['Weather_encoded']]\n",
    "y = df['Delivery_Time']\n",
    "\n",
    "X_train, X_test, y_train, y_test = train_test_split(X,y,test_size=0.2,random_state=42)\n",
    "\n",
    "model = LinearRegression()\n",
    "model.fit(X_train, y_train)\n",
    "\n",
    "predictions = model.predict(X_test) \n",
    "print(math.sqrt(mean_squared_error(y_test,predictions)))"
   ]
  },
  {
   "cell_type": "code",
   "execution_count": null,
   "metadata": {},
   "outputs": [],
   "source": [
    "area_unique = df['Area'].unique()\n",
    "\n",
    "# Create a mapping dictionary to replace the unique values\n",
    "area_mapping = {area: i for i, area in enumerate(area_unique)}\n",
    "\n",
    "# Replace the unique values with the mapped values\n",
    "df['Area_encoded'] = df['Area'].map(area_mapping)\n",
    "\n",
    "# Now you can use the encoded area column as a feature in your linear regression model\n",
    "X = df[['Area_encoded']]\n",
    "y = df['Delivery_Time']\n",
    "\n",
    "X_train, X_test, y_train, y_test = train_test_split(X,y,test_size=0.2,random_state=42)\n",
    "\n",
    "model = LinearRegression()\n",
    "model.fit(X_train, y_train)\n",
    "predictions = model.predict(X_test)\n",
    "\n",
    "print(math.sqrt(mean_squared_error(y_test,predictions)))"
   ]
  },
  {
   "cell_type": "code",
   "execution_count": null,
   "metadata": {},
   "outputs": [],
   "source": [
    "traffic_unique = df['Traffic'].unique()\n",
    "\n",
    "# Create a mapping dictionary to replace the unique values\n",
    "traffic_mapping = {traffic: i for i, traffic in enumerate(traffic_unique)}\n",
    "\n",
    "# Replace the unique values with the mapped values\n",
    "df['Traffic_encoded'] = df['Traffic'].map(traffic_mapping)\n",
    "\n",
    "# Now you can use the encoded traffic column as a feature in your linear regression model\n",
    "X = df[['Traffic_encoded']]\n",
    "y = df['Delivery_Time']\n",
    "\n",
    "X_train, X_test, y_train, y_test = train_test_split(X,y,test_size=0.2,random_state=42)\n",
    "\n",
    "model = LinearRegression()\n",
    "model.fit(X_train, y_train)\n",
    "predictions = model.predict(X_test)\n",
    "\n",
    "print(math.sqrt(mean_squared_error(y_test,predictions)))"
   ]
  },
  {
   "cell_type": "code",
   "execution_count": null,
   "metadata": {},
   "outputs": [],
   "source": [
    "vehicle_unique = df['Vehicle'].unique()\n",
    "\n",
    "# Create a mapping dictionary to replace the unique values\n",
    "vehicle_mapping = {vehicle: i for i, vehicle in enumerate(vehicle_unique)}\n",
    "\n",
    "# Replace the unique values with the mapped values\n",
    "df['Vehicle_encoded'] = df['Vehicle'].map(vehicle_mapping)\n",
    "\n",
    "# Now you can use the encoded traffic column as a feature in your linear regression model\n",
    "X = df[['Vehicle_encoded']]\n",
    "y = df['Delivery_Time']\n",
    "\n",
    "X_train, X_test, y_train, y_test = train_test_split(X,y,test_size=0.2,random_state=42)\n",
    "\n",
    "model = LinearRegression()\n",
    "model.fit(X_train, y_train)\n",
    "\n",
    "predictions = model.predict(X_test)\n",
    "\n",
    "print(math.sqrt(mean_squared_error(y_test,predictions)))\n"
   ]
  },
  {
   "cell_type": "code",
   "execution_count": null,
   "metadata": {},
   "outputs": [],
   "source": [
    "category_unique = df['Category'].unique()\n",
    "\n",
    "# Create a mapping dictionary to replace the unique values\n",
    "category_mapping = {category: i for i, category in enumerate(category_unique)}\n",
    "\n",
    "# Replace the unique values with the mapped values\n",
    "df['Category_encoded'] = df['Category'].map(category_mapping)\n",
    "\n",
    "# Now you can use the encoded category column as a feature in your linear regression model\n",
    "X = df[['Category_encoded']]\n",
    "y = df['Delivery_Time']\n",
    "\n",
    "X_train, X_test, y_train, y_test = train_test_split(X,y,test_size=0.2,random_state=42)\n",
    "\n",
    "model = LinearRegression()\n",
    "model.fit(X_train, y_train)\n",
    "\n",
    "predictions = model.predict(X_test)\n",
    "\n",
    "print(math.sqrt(mean_squared_error(y_test,predictions)))"
   ]
  },
  {
   "cell_type": "code",
   "execution_count": null,
   "metadata": {},
   "outputs": [],
   "source": [
    "df.info()"
   ]
  },
  {
   "cell_type": "code",
   "execution_count": null,
   "metadata": {},
   "outputs": [],
   "source": [
    "X = df[['Agent_Age','Agent_Rating','Distance','Weather_encoded','Area_encoded','Traffic_encoded','Vehicle_encoded','Category_encoded']]\n",
    "y = df['Delivery_Time']\n",
    "\n",
    "X_train, X_test, y_train, y_test = train_test_split(X,y,test_size=0.2,random_state=42)\n",
    "\n",
    "model = LinearRegression()\n",
    "model.fit(X_train, y_train)\n",
    "\n",
    "predictions = model.predict(X_test)\n",
    "\n",
    "print('RMSE: ',math.sqrt(mean_squared_error(y_test,predictions)))\n",
    "print('Accuracy:',100-math.sqrt(mean_squared_error(y_test,predictions)))"
   ]
  },
  {
   "cell_type": "code",
   "execution_count": null,
   "metadata": {},
   "outputs": [],
   "source": [
    "from sklearn.preprocessing import StandardScaler\n",
    "\n",
    "# Feature variables\n",
    "X = df[['Agent_Age', 'Agent_Rating', 'Distance', 'Weather_encoded', 'Area_encoded', 'Traffic_encoded', 'Vehicle_encoded', 'Category_encoded']]\n",
    "\n",
    "# Target variable\n",
    "y = df['Delivery_Time']\n",
    "\n",
    "# Split the data into training and testing sets\n",
    "X_train, X_test, y_train, y_test = train_test_split(X, y, test_size=0.2, random_state=42)\n",
    "\n",
    "# Standardize the feature variables\n",
    "scaler = StandardScaler()\n",
    "X_train_scaled = scaler.fit_transform(X_train)\n",
    "X_test_scaled = scaler.transform(X_test)\n",
    "\n",
    "# Train the linear regression model\n",
    "model = LinearRegression()\n",
    "model.fit(X_train_scaled, y_train)\n",
    "\n",
    "# Make predictions on the test set\n",
    "predictions = model.predict(X_test_scaled)\n",
    "\n",
    "# Evaluate the model\n",
    "rmse = math.sqrt(mean_squared_error(y_test, predictions))\n",
    "accuracy = 100 - rmse\n",
    "\n",
    "print('RMSE: ', rmse)\n",
    "print('Accuracy: ', accuracy)"
   ]
  },
  {
   "cell_type": "code",
   "execution_count": null,
   "metadata": {},
   "outputs": [],
   "source": [
    "from sklearn.preprocessing import MinMaxScaler\n",
    "\n",
    "# Feature variables\n",
    "X = df[['Agent_Age', 'Agent_Rating', 'Distance', 'Weather_encoded', 'Area_encoded', 'Traffic_encoded', 'Vehicle_encoded', 'Category_encoded']]\n",
    "\n",
    "# Target variable\n",
    "y = df['Delivery_Time']\n",
    "\n",
    "# Split the data into training and testing sets\n",
    "X_train, X_test, y_train, y_test = train_test_split(X, y, test_size=0.2, random_state=42)\n",
    "\n",
    "# Normalize the feature variables\n",
    "scaler = MinMaxScaler()\n",
    "X_train_scaled = scaler.fit_transform(X_train)\n",
    "X_test_scaled = scaler.transform(X_test)\n",
    "\n",
    "# Train the linear regression model\n",
    "model = LinearRegression()\n",
    "model.fit(X_train_scaled, y_train)\n",
    "predictions = model.predict(X_test_scaled)\n",
    "\n",
    "# Evaluate the model\n",
    "rmse = math.sqrt(mean_squared_error(y_test, predictions))\n",
    "accuracy = 100 - rmse\n",
    "\n",
    "print('RMSE: ', rmse)\n",
    "print('Accuracy: ', accuracy)"
   ]
  },
  {
   "cell_type": "code",
   "execution_count": null,
   "metadata": {},
   "outputs": [],
   "source": [
    "from sklearn.linear_model import Ridge\n",
    "\n",
    "model = Ridge(alpha=1.0)\n",
    "model.fit(X_train, y_train)\n",
    "\n",
    "y_pred = model.predict(X_test)\n",
    "mse = mean_squared_error(y_test, y_pred)\n",
    "rmse = math.sqrt(mse)\n",
    "accuracy = 100 - rmse\n",
    "\n",
    "print(f\"RMSE: {rmse:.2f}\")\n",
    "print(f\"Accuracy: {accuracy:.2f}%\")"
   ]
  },
  {
   "cell_type": "code",
   "execution_count": null,
   "metadata": {},
   "outputs": [],
   "source": [
    "from sklearn.tree import DecisionTreeRegressor\n",
    "\n",
    "model = DecisionTreeRegressor(random_state=42)\n",
    "model.fit(X_train, y_train)\n",
    "\n",
    "y_pred = model.predict(X_test)\n",
    "mse = mean_squared_error(y_test, y_pred)\n",
    "rmse = math.sqrt(mse)\n",
    "accuracy = 100 - rmse\n",
    "\n",
    "print(f\"RMSE: {rmse:.2f}\")\n",
    "print(f\"Accuracy: {accuracy:.2f}%\")"
   ]
  },
  {
   "cell_type": "code",
   "execution_count": null,
   "metadata": {},
   "outputs": [],
   "source": [
    "from sklearn.ensemble import RandomForestRegressor\n",
    "\n",
    "model = RandomForestRegressor(n_estimators=100, random_state=42)\n",
    "model.fit(X_train, y_train)\n",
    "\n",
    "y_pred = model.predict(X_test)\n",
    "mse = mean_squared_error(y_test, y_pred)\n",
    "rmse = math.sqrt(mse)\n",
    "accuracy = 100 - rmse\n",
    "\n",
    "print(f\"RMSE: {rmse:.2f}\")\n",
    "print(f\"Accuracy: {accuracy:.2f}%\")"
   ]
  },
  {
   "cell_type": "code",
   "execution_count": null,
   "metadata": {},
   "outputs": [],
   "source": [
    "from sklearn.ensemble import GradientBoostingRegressor\n",
    "\n",
    "model = GradientBoostingRegressor(n_estimators=100, random_state=42)\n",
    "model.fit(X_train, y_train)\n",
    "\n",
    "y_pred = model.predict(X_test)\n",
    "mse = mean_squared_error(y_test, y_pred)\n",
    "rmse = math.sqrt(mse)\n",
    "accuracy = 100 - rmse\n",
    "\n",
    "print(f\"RMSE: {rmse:.2f}\")\n",
    "print(f\"Accuracy: {accuracy:.2f}%\")"
   ]
  },
  {
   "cell_type": "code",
   "execution_count": null,
   "metadata": {},
   "outputs": [],
   "source": [
    "from sklearn.svm import SVR\n",
    "\n",
    "model = SVR(kernel='rbf')\n",
    "model.fit(X_train, y_train)\n",
    "\n",
    "y_pred = model.predict(X_test)\n",
    "mse = mean_squared_error(y_test, y_pred)\n",
    "rmse = math.sqrt(mse)\n",
    "accuracy = 100 - rmse\n",
    "\n",
    "print(f\"RMSE: {rmse:.2f}\")\n",
    "print(f\"Accuracy: {accuracy:.2f}%\")"
   ]
  },
  {
   "cell_type": "code",
   "execution_count": null,
   "metadata": {},
   "outputs": [],
   "source": [
    "from sklearn.neighbors import KNeighborsRegressor\n",
    "\n",
    "model = KNeighborsRegressor(n_neighbors=5)\n",
    "model.fit(X_train, y_train)\n",
    "\n",
    "y_pred = model.predict(X_test)\n",
    "mse = mean_squared_error(y_test, y_pred)\n",
    "rmse = math.sqrt(mse)\n",
    "accuracy = 100 - rmse\n",
    "\n",
    "print(f\"RMSE: {rmse:.2f}\")\n",
    "print(f\"Accuracy: {accuracy:.2f}%\")"
   ]
  },
  {
   "cell_type": "code",
   "execution_count": null,
   "metadata": {},
   "outputs": [],
   "source": [
    "X = df[['Agent_Age', 'Agent_Rating', 'Distance', 'Weather_encoded', 'Area_encoded', 'Traffic_encoded', 'Vehicle_encoded', 'Category_encoded']]\n",
    "\n",
    "# Target variable\n",
    "y = df['Delivery_Time']\n",
    "\n",
    "# Split the data into training and testing sets\n",
    "X_train, X_test, y_train, y_test = train_test_split(X, y, test_size=0.2, random_state=42)"
   ]
  },
  {
   "cell_type": "code",
   "execution_count": null,
   "metadata": {},
   "outputs": [],
   "source": [
    "from sklearn.ensemble import RandomForestRegressor\n",
    "\n",
    "rfmodel = RandomForestRegressor(n_estimators=100, random_state=42)\n",
    "rfmodel.fit(X_train, y_train)\n",
    "\n",
    "y_pred = rfmodel.predict(X_test)\n",
    "mse = mean_squared_error(y_test, y_pred)\n",
    "rmse = math.sqrt(mse)\n",
    "accuracy = 100 - rmse\n",
    "\n",
    "print(f\"RMSE: {rmse:.2f}\")\n",
    "print(f\"Accuracy: {accuracy:.2f}%\")"
   ]
  },
  {
   "cell_type": "code",
   "execution_count": null,
   "metadata": {},
   "outputs": [],
   "source": [
    "features = np.array([30,4.2,17.23,1,1,1,2,7])"
   ]
  },
  {
   "cell_type": "code",
   "execution_count": null,
   "metadata": {},
   "outputs": [],
   "source": [
    "rfmodel.predict([features])"
   ]
  },
  {
   "cell_type": "code",
   "execution_count": null,
   "metadata": {},
   "outputs": [],
   "source": [
    "import pickle\n",
    "\n",
    "# Save the model to a pickle file\n",
    "with open('rfdelivery_model.pkl', 'wb') as file:\n",
    "    pickle.dump(rfmodel, file)"
   ]
  },
  {
   "cell_type": "code",
   "execution_count": null,
   "metadata": {},
   "outputs": [],
   "source": [
    "import joblib\n",
    "joblib.dump(model, 'model.joblib')"
   ]
  },
  {
   "cell_type": "code",
   "execution_count": null,
   "metadata": {},
   "outputs": [],
   "source": [
    "import streamlit as st\n",
    "import numpy as np\n",
    "import joblib\n",
    "\n",
    "# Load the trained model\n",
    "model = joblib.load('model.joblib')\n",
    "\n",
    "# Title of the app\n",
    "st.title(\"Amazon Delivery Time Prediction\")\n",
    "\n",
    "# User input fields\n",
    "agent_age = st.number_input(\"Agent Age\", min_value=18, max_value=65, value=30)\n",
    "agent_rating = st.number_input(\"Agent Rating\", min_value=1.0, max_value=5.0, value=4.2, step=0.1)\n",
    "distance = st.number_input(\"Distance (km)\", min_value=0.1, value=17.23)\n",
    "weather = st.selectbox(\"Weather Condition\", [\"Sunny\", \"Cloudy\", \"Rainy\", \"Stormy\"])\n",
    "area = st.selectbox(\"Area Type\", [\"Urban\", \"Suburban\", \"Rural\"])\n",
    "traffic = st.selectbox(\"Traffic Condition\", [\"Low\", \"Medium\", \"High\", \"Jam\"])\n",
    "vehicle = st.selectbox(\"Vehicle Type\", [\"Bike\", \"Scooter\", \"Car\", \"Van\"])\n",
    "category = st.selectbox(\"Delivery Category\", [\"Food\", \"Grocery\", \"Medicine\", \"Electronics\"])\n",
    "\n",
    "# Encoding categorical inputs\n",
    "weather_mapping = {\"Sunny\": 0, \"Cloudy\": 1, \"Rainy\": 2, \"Stormy\": 3}\n",
    "area_mapping = {\"Urban\": 0, \"Suburban\": 1, \"Rural\": 2}\n",
    "traffic_mapping = {\"Low\": 0, \"Medium\": 1, \"High\": 2, \"Jam\": 3}\n",
    "vehicle_mapping = {\"Bike\": 0, \"Scooter\": 1, \"Car\": 2, \"Van\": 3}\n",
    "category_mapping = {\"Food\": 0, \"Grocery\": 1, \"Medicine\": 2, \"Electronics\": 3}\n",
    "\n",
    "# Convert categorical inputs to numerical values\n",
    "weather_encoded = weather_mapping[weather]\n",
    "area_encoded = area_mapping[area]\n",
    "traffic_encoded = traffic_mapping[traffic]\n",
    "vehicle_encoded = vehicle_mapping[vehicle]\n",
    "category_encoded = category_mapping[category]\n",
    "\n",
    "# Predict delivery time\n",
    "if st.button(\"Predict Delivery Time\"):\n",
    "    features = np.array([[agent_age, agent_rating, distance, weather_encoded, area_encoded, traffic_encoded, vehicle_encoded, category_encoded]])\n",
    "    prediction = model.predict(features)[0]\n",
    "    st.success(f\"Predicted Delivery Time: {prediction:.2f} minutes\")\n",
    "\n"
   ]
  }
 ],
 "metadata": {
  "kernelspec": {
   "display_name": "venv",
   "language": "python",
   "name": "python3"
  },
  "language_info": {
   "codemirror_mode": {
    "name": "ipython",
    "version": 3
   },
   "file_extension": ".py",
   "mimetype": "text/x-python",
   "name": "python",
   "nbconvert_exporter": "python",
   "pygments_lexer": "ipython3",
   "version": "3.12.8"
  }
 },
 "nbformat": 4,
 "nbformat_minor": 2
}
